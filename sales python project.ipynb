{
 "cells": [
  {
   "cell_type": "code",
   "execution_count": 1,
   "id": "48bfcd87",
   "metadata": {},
   "outputs": [],
   "source": [
    "import pandas as pd\n",
    "import matplotlib.pyplot as plt\n",
    "import numpy as np"
   ]
  },
  {
   "cell_type": "code",
   "execution_count": 2,
   "id": "7bf5466e",
   "metadata": {},
   "outputs": [],
   "source": [
    "# Sample Data Generation with some missing values (You can replace this with your CSV file)\n",
    "data = {\n",
    "    'Month': ['January', 'February', 'March', 'April', 'May', 'June', 'July', 'August', 'September', 'October', 'November', 'December'] * 3,\n",
    "    'Product': ['A'] * 12 + ['B'] * 12 + ['C'] * 12,\n",
    "    'Region': ['North', 'South', 'East', 'West'] * 9,\n",
    "    'Sales': [150, 200, np.nan, 400, 500, 250, 180, np.nan, 260, 290, 300, 210] * 3\n",
    "}"
   ]
  },
  {
   "cell_type": "code",
   "execution_count": 3,
   "id": "5c34aafa",
   "metadata": {},
   "outputs": [],
   "source": [
    "# Create DataFrame\n",
    "df = pd.DataFrame(data)"
   ]
  },
  {
   "cell_type": "code",
   "execution_count": 4,
   "id": "0261c979",
   "metadata": {},
   "outputs": [],
   "source": [
    "# Function to drop rows with missing 'Sales' values\n",
    "def drop_missing_sales():\n",
    "    global df\n",
    "    df = df.dropna(subset=['Sales'])\n",
    "    print(\"Dropped rows with missing 'Sales' values.\")\n",
    "    print(df.head())\n"
   ]
  },
  {
   "cell_type": "code",
   "execution_count": 5,
   "id": "be4e3f01",
   "metadata": {},
   "outputs": [],
   "source": [
    "# Function to fill missing 'Sales' values with the average sales\n",
    "def fill_missing_sales():\n",
    "    global df\n",
    "    avg_sales = df['Sales'].mean()\n",
    "    df['Sales'] = df['Sales'].fillna(avg_sales)\n",
    "    print(\"Filled missing 'Sales' values with the average:\", avg_sales)\n",
    "    print(df.head())"
   ]
  },
  {
   "cell_type": "code",
   "execution_count": 6,
   "id": "b35450df",
   "metadata": {},
   "outputs": [],
   "source": [
    "# Function to drop a specific column (for demonstration, we’ll drop 'Region')\n",
    "def drop_region_column():\n",
    "    global df\n",
    "    if 'Region' in df.columns:\n",
    "        df = df.drop(columns=['Region'])\n",
    "        print(\"Dropped 'Region' column.\")\n",
    "    else:\n",
    "        print(\"'Region' column is already removed.\")\n",
    "    print(df.head())"
   ]
  },
  {
   "cell_type": "code",
   "execution_count": 7,
   "id": "cd1f5060",
   "metadata": {},
   "outputs": [],
   "source": [
    "# Function to display the first few rows of the data\n",
    "def show_data():\n",
    "    print(\"Displaying the first few rows of the dataset:\")\n",
    "    print(df.head())"
   ]
  },
  {
   "cell_type": "code",
   "execution_count": 8,
   "id": "bdb55c8a",
   "metadata": {},
   "outputs": [],
   "source": [
    "# Function to calculate total sales by product\n",
    "def total_sales_by_product():\n",
    "    product_sales = df.groupby('Product')['Sales'].sum()\n",
    "    print(\"\\nTotal Sales by Product:\")\n",
    "    print(product_sales)\n",
    "    return product_sales"
   ]
  },
  {
   "cell_type": "code",
   "execution_count": 9,
   "id": "c3ce0b52",
   "metadata": {},
   "outputs": [],
   "source": [
    "# Function to calculate total sales by month after handling missing values\n",
    "def total_sales_by_month():\n",
    "    month_sales = df.groupby('Month')['Sales'].sum()\n",
    "    print(\"\\nTotal Sales by Month:\")\n",
    "    print(month_sales)\n",
    "    return month_sales"
   ]
  },
  {
   "cell_type": "code",
   "execution_count": 10,
   "id": "b396a144",
   "metadata": {},
   "outputs": [],
   "source": [
    "# Function to visualize sales trends over months after handling missing values\n",
    "def sales_trends():\n",
    "    monthly_sales = df.groupby('Month')['Sales'].sum()\n",
    "    monthly_sales.plot(kind='line', marker='o', figsize=(10, 6))\n",
    "    plt.title(\"Monthly Sales Trends\")\n",
    "    plt.xlabel(\"Month\")\n",
    "    plt.ylabel(\"Sales\")\n",
    "    plt.xticks(rotation=45)\n",
    "    plt.show()"
   ]
  },
  {
   "cell_type": "code",
   "execution_count": 11,
   "id": "d2122d9c",
   "metadata": {},
   "outputs": [],
   "source": [
    "# Function to visualize total sales by product using a bar chart\n",
    "def sales_by_product_chart():\n",
    "    product_sales = total_sales_by_product()\n",
    "    product_sales.plot(kind='bar', color='skyblue')\n",
    "    plt.title(\"Total Sales by Product\")\n",
    "    plt.xlabel(\"Product\")\n",
    "    plt.ylabel(\"Sales\")\n",
    "    plt.show()"
   ]
  },
  {
   "cell_type": "code",
   "execution_count": 12,
   "id": "7744692c",
   "metadata": {},
   "outputs": [
    {
     "name": "stdout",
     "output_type": "stream",
     "text": [
      "\n",
      "Sales Data Analysis with Missing Data Handling\n",
      "1. Show Data\n",
      "2. Drop Rows with Missing Sales Data\n",
      "3. Fill Missing Sales Data with Average\n",
      "4. Drop 'Region' Column\n",
      "5. Calculate Total Sales by Product\n",
      "6. Calculate Total Sales by Month\n",
      "7. Plot Sales Trends Over Months\n",
      "8. Plot Total Sales by Product\n",
      "9. Exit\n",
      "Choose an option: 1\n",
      "Displaying the first few rows of the dataset:\n",
      "      Month Product Region  Sales\n",
      "0   January       A  North  150.0\n",
      "1  February       A  South  200.0\n",
      "2     March       A   East    NaN\n",
      "3     April       A   West  400.0\n",
      "4       May       A  North  500.0\n",
      "\n",
      "Sales Data Analysis with Missing Data Handling\n",
      "1. Show Data\n",
      "2. Drop Rows with Missing Sales Data\n",
      "3. Fill Missing Sales Data with Average\n",
      "4. Drop 'Region' Column\n",
      "5. Calculate Total Sales by Product\n",
      "6. Calculate Total Sales by Month\n",
      "7. Plot Sales Trends Over Months\n",
      "8. Plot Total Sales by Product\n",
      "9. Exit\n",
      "Choose an option: 2\n",
      "Dropped rows with missing 'Sales' values.\n",
      "      Month Product Region  Sales\n",
      "0   January       A  North  150.0\n",
      "1  February       A  South  200.0\n",
      "3     April       A   West  400.0\n",
      "4       May       A  North  500.0\n",
      "5      June       A  South  250.0\n",
      "\n",
      "Sales Data Analysis with Missing Data Handling\n",
      "1. Show Data\n",
      "2. Drop Rows with Missing Sales Data\n",
      "3. Fill Missing Sales Data with Average\n",
      "4. Drop 'Region' Column\n",
      "5. Calculate Total Sales by Product\n",
      "6. Calculate Total Sales by Month\n",
      "7. Plot Sales Trends Over Months\n",
      "8. Plot Total Sales by Product\n",
      "9. Exit\n",
      "Choose an option: 3\n",
      "Filled missing 'Sales' values with the average: 274.0\n",
      "      Month Product Region  Sales\n",
      "0   January       A  North  150.0\n",
      "1  February       A  South  200.0\n",
      "3     April       A   West  400.0\n",
      "4       May       A  North  500.0\n",
      "5      June       A  South  250.0\n",
      "\n",
      "Sales Data Analysis with Missing Data Handling\n",
      "1. Show Data\n",
      "2. Drop Rows with Missing Sales Data\n",
      "3. Fill Missing Sales Data with Average\n",
      "4. Drop 'Region' Column\n",
      "5. Calculate Total Sales by Product\n",
      "6. Calculate Total Sales by Month\n",
      "7. Plot Sales Trends Over Months\n",
      "8. Plot Total Sales by Product\n",
      "9. Exit\n",
      "Choose an option: 4\n",
      "Dropped 'Region' column.\n",
      "      Month Product  Sales\n",
      "0   January       A  150.0\n",
      "1  February       A  200.0\n",
      "3     April       A  400.0\n",
      "4       May       A  500.0\n",
      "5      June       A  250.0\n",
      "\n",
      "Sales Data Analysis with Missing Data Handling\n",
      "1. Show Data\n",
      "2. Drop Rows with Missing Sales Data\n",
      "3. Fill Missing Sales Data with Average\n",
      "4. Drop 'Region' Column\n",
      "5. Calculate Total Sales by Product\n",
      "6. Calculate Total Sales by Month\n",
      "7. Plot Sales Trends Over Months\n",
      "8. Plot Total Sales by Product\n",
      "9. Exit\n",
      "Choose an option: 5\n",
      "\n",
      "Total Sales by Product:\n",
      "Product\n",
      "A    2740.0\n",
      "B    2740.0\n",
      "C    2740.0\n",
      "Name: Sales, dtype: float64\n",
      "\n",
      "Sales Data Analysis with Missing Data Handling\n",
      "1. Show Data\n",
      "2. Drop Rows with Missing Sales Data\n",
      "3. Fill Missing Sales Data with Average\n",
      "4. Drop 'Region' Column\n",
      "5. Calculate Total Sales by Product\n",
      "6. Calculate Total Sales by Month\n",
      "7. Plot Sales Trends Over Months\n",
      "8. Plot Total Sales by Product\n",
      "9. Exit\n",
      "Choose an option: 6\n",
      "\n",
      "Total Sales by Month:\n",
      "Month\n",
      "April        1200.0\n",
      "December      630.0\n",
      "February      600.0\n",
      "January       450.0\n",
      "July          540.0\n",
      "June          750.0\n",
      "May          1500.0\n",
      "November      900.0\n",
      "October       870.0\n",
      "September     780.0\n",
      "Name: Sales, dtype: float64\n",
      "\n",
      "Sales Data Analysis with Missing Data Handling\n",
      "1. Show Data\n",
      "2. Drop Rows with Missing Sales Data\n",
      "3. Fill Missing Sales Data with Average\n",
      "4. Drop 'Region' Column\n",
      "5. Calculate Total Sales by Product\n",
      "6. Calculate Total Sales by Month\n",
      "7. Plot Sales Trends Over Months\n",
      "8. Plot Total Sales by Product\n",
      "9. Exit\n",
      "Choose an option: 7\n"
     ]
    },
    {
     "data": {
      "image/png": "[encoded data removed]",
      "text/plain": [
       "<Figure size 720x432 with 1 Axes>"
      ]
     },
     "metadata": {
      "needs_background": "light"
     },
     "output_type": "display_data"
    },
    {
     "name": "stdout",
     "output_type": "stream",
     "text": [
      "\n",
      "Sales Data Analysis with Missing Data Handling\n",
      "1. Show Data\n",
      "2. Drop Rows with Missing Sales Data\n",
      "3. Fill Missing Sales Data with Average\n",
      "4. Drop 'Region' Column\n",
      "5. Calculate Total Sales by Product\n",
      "6. Calculate Total Sales by Month\n",
      "7. Plot Sales Trends Over Months\n",
      "8. Plot Total Sales by Product\n",
      "9. Exit\n",
      "Choose an option: 8\n",
      "\n",
      "Total Sales by Product:\n",
      "Product\n",
      "A    2740.0\n",
      "B    2740.0\n",
      "C    2740.0\n",
      "Name: Sales, dtype: float64\n"
     ]
    },
    {
     "data": {
      "image/png": "[encoded data removed]",
      "text/plain": [
       "<Figure size 432x288 with 1 Axes>"
      ]
     },
     "metadata": {
      "needs_background": "light"
     },
     "output_type": "display_data"
    },
    {
     "name": "stdout",
     "output_type": "stream",
     "text": [
      "\n",
      "Sales Data Analysis with Missing Data Handling\n",
      "1. Show Data\n",
      "2. Drop Rows with Missing Sales Data\n",
      "3. Fill Missing Sales Data with Average\n",
      "4. Drop 'Region' Column\n",
      "5. Calculate Total Sales by Product\n",
      "6. Calculate Total Sales by Month\n",
      "7. Plot Sales Trends Over Months\n",
      "8. Plot Total Sales by Product\n",
      "9. Exit\n",
      "Choose an option: 9\n",
      "Exiting the system. Goodbye!\n"
     ]
    }
   ],
   "source": [
    "# Main function to run the analysis\n",
    "def main():\n",
    "    while True:\n",
    "        print(\"\\nSales Data Analysis with Missing Data Handling\")\n",
    "        print(\"1. Show Data\")\n",
    "        print(\"2. Drop Rows with Missing Sales Data\")\n",
    "        print(\"3. Fill Missing Sales Data with Average\")\n",
    "        print(\"4. Drop 'Region' Column\")\n",
    "        print(\"5. Calculate Total Sales by Product\")\n",
    "        print(\"6. Calculate Total Sales by Month\")\n",
    "        print(\"7. Plot Sales Trends Over Months\")\n",
    "        print(\"8. Plot Total Sales by Product\")\n",
    "        print(\"9. Exit\")\n",
    "        \n",
    "        choice = input(\"Choose an option: \")\n",
    "        if choice == '1':\n",
    "            show_data()\n",
    "        elif choice == '2':\n",
    "            drop_missing_sales()\n",
    "        elif choice == '3':\n",
    "            fill_missing_sales()\n",
    "        elif choice == '4':\n",
    "            drop_region_column()\n",
    "        elif choice == '5':\n",
    "            total_sales_by_product()\n",
    "        elif choice == '6':\n",
    "            total_sales_by_month()\n",
    "        elif choice == '7':\n",
    "            sales_trends()\n",
    "        elif choice == '8':\n",
    "            sales_by_product_chart()\n",
    "        elif choice == '9':\n",
    "            print(\"Exiting the system. Goodbye!\")\n",
    "            break\n",
    "        else:\n",
    "            print(\"Invalid choice. Please try again.\")\n",
    "\n",
    "# Run the main function\n",
    "if __name__ == \"__main__\":\n",
    "    main()"
   ]
  },
  {
   "cell_type": "code",
   "execution_count": null,
   "id": "6aef62db",
   "metadata": {},
   "outputs": [],
   "source": []
  }
 ],
 "metadata": {
  "kernelspec": {
   "display_name": "Python 3 (ipykernel)",
   "language": "python",
   "name": "python3"
  },
  "language_info": {
   "codemirror_mode": {
    "name": "ipython",
    "version": 3
   },
   "file_extension": ".py",
   "mimetype": "text/x-python",
   "name": "python",
   "nbconvert_exporter": "python",
   "pygments_lexer": "ipython3",
   "version": "3.9.12"
  }
 },
 "nbformat": 4,
 "nbformat_minor": 5
}
